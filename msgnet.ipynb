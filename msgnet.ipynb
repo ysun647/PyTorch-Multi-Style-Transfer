{
 "cells": [
  {
   "cell_type": "markdown",
   "metadata": {},
   "source": [
    "# Multi-style Generative Network for Real-time Transfer"
   ]
  },
  {
   "cell_type": "markdown",
   "metadata": {},
   "source": [
    "created by [Hang Zhang](http://hangzh.com/), [Kristin Dana](http://eceweb1.rutgers.edu/vision/dana.html)\n",
    "\n",
    "## Introduction\n",
    "This is PyTorch example of real-time multi-style transfer. In this work, we introduce a Multi-style Generative Network (MSG-Net) with a novel Inspiration Layer, which retains the functionality of optimization-based approaches and has the fast speed of feed-forward networks. [[arXiv](https://arxiv.org/pdf/1703.06953.pdf)][[project](http://computervisionrutgers.github.io/MSG-Net/)]\n",
    "```\n",
    "@article{zhang2017multistyle,\n",
    "\ttitle={Multi-style Generative Network for Real-time Transfer},\n",
    "\tauthor={Zhang, Hang and Dana, Kristin},\n",
    "\tjournal={arXiv preprint arXiv:1703.06953},\n",
    "\tyear={2017}\n",
    "}\n",
    "```\n"
   ]
  },
  {
   "cell_type": "markdown",
   "metadata": {},
   "source": [
    "## Tutorial\n",
    "### Real-time Style Transfer using Pre-trained MSG-Net\n",
    "- Define the model"
   ]
  },
  {
   "cell_type": "code",
   "execution_count": null,
   "metadata": {},
   "outputs": [],
   "source": [
    "# import numpy & pytorch\n",
    "import numpy as np\n",
    "import torch\n",
    "import torch.nn as nn\n",
    "import torch.nn.functional as F\n",
    "from torch.autograd import Variable\n",
    "# define Gram Matrix\n",
    "class GramMatrix(nn.Module):\n",
    "    def forward(self, y):\n",
    "        (b, ch, h, w) = y.size()\n",
    "        features = y.view(b, ch, w * h)\n",
    "        features_t = features.transpose(1, 2)\n",
    "        gram = features.bmm(features_t) / (ch * h * w)\n",
    "        return gram\n",
    "# proposed Inspiration(CoMatch) Layer\n",
    "class Inspiration(nn.Module):\n",
    "    \"\"\" Inspiration Layer (from MSG-Net paper)\n",
    "    tuning the featuremap with target Gram Matrix\n",
    "    ref https://arxiv.org/abs/1703.06953\n",
    "    \"\"\"\n",
    "    def __init__(self, C, B=1):\n",
    "        super(Inspiration, self).__init__()\n",
    "        # B is equal to 1 or input mini_batch\n",
    "        self.weight = nn.Parameter(torch.Tensor(1,C,C), requires_grad=True)\n",
    "        # non-parameter buffer\n",
    "        self.G = Variable(torch.Tensor(B,C,C), requires_grad=True)\n",
    "        self.C = C\n",
    "        self.reset_parameters()\n",
    "\n",
    "    def reset_parameters(self):\n",
    "        self.weight.data.uniform_(0.0, 0.02)\n",
    "\n",
    "    def setTarget(self, target):\n",
    "        self.G = target\n",
    "\n",
    "    def forward(self, X):\n",
    "        # input X is a 3D feature map\n",
    "        self.P = torch.bmm(self.weight.expand_as(self.G),self.G)\n",
    "        return torch.bmm(self.P.transpose(1,2).expand(X.size(0), self.C, self.C), X.view(X.size(0),X.size(1),-1)).view_as(X)\n",
    "\n",
    "    def __repr__(self):\n",
    "        return self.__class__.__name__ + '(' \\\n",
    "            + 'N x ' + str(self.C) + ')'\n",
    "# some basic layers, with reflectance padding\n",
    "class ConvLayer(torch.nn.Module):\n",
    "    def __init__(self, in_channels, out_channels, kernel_size, stride):\n",
    "        super(ConvLayer, self).__init__()\n",
    "        reflection_padding = int(np.floor(kernel_size / 2))\n",
    "        self.reflection_pad = nn.ReflectionPad2d(reflection_padding)\n",
    "        self.conv2d = nn.Conv2d(in_channels, out_channels, kernel_size, stride)\n",
    "\n",
    "    def forward(self, x):\n",
    "        out = self.reflection_pad(x)\n",
    "        out = self.conv2d(out)\n",
    "        return out\n",
    "\n",
    "class UpsampleConvLayer(torch.nn.Module):\n",
    "    def __init__(self, in_channels, out_channels, kernel_size, stride, upsample=None):\n",
    "        super(UpsampleConvLayer, self).__init__()\n",
    "        self.upsample = upsample\n",
    "        if upsample:\n",
    "            self.upsample_layer = torch.nn.Upsample(scale_factor=upsample)\n",
    "        self.reflection_padding = int(np.floor(kernel_size / 2))\n",
    "        if self.reflection_padding != 0:\n",
    "            self.reflection_pad = nn.ReflectionPad2d(self.reflection_padding)\n",
    "        self.conv2d = nn.Conv2d(in_channels, out_channels, kernel_size, stride)\n",
    "\n",
    "    def forward(self, x):\n",
    "        if self.upsample:\n",
    "            x = self.upsample_layer(x)\n",
    "        if self.reflection_padding != 0:\n",
    "            x = self.reflection_pad(x)\n",
    "        out = self.conv2d(x)\n",
    "        return out\n",
    "\n",
    "class Bottleneck(nn.Module):\n",
    "    \"\"\" Pre-activation residual block\n",
    "    Identity Mapping in Deep Residual Networks\n",
    "    ref https://arxiv.org/abs/1603.05027\n",
    "    \"\"\"\n",
    "    def __init__(self, inplanes, planes, stride=1, downsample=None, norm_layer=nn.BatchNorm2d):\n",
    "        super(Bottleneck, self).__init__()\n",
    "        self.expansion = 4\n",
    "        self.downsample = downsample\n",
    "        if self.downsample is not None:\n",
    "            self.residual_layer = nn.Conv2d(inplanes, planes * self.expansion,\n",
    "                                                        kernel_size=1, stride=stride)\n",
    "        conv_block = []\n",
    "        conv_block += [norm_layer(inplanes),\n",
    "                                    nn.ReLU(inplace=True),\n",
    "                                    nn.Conv2d(inplanes, planes, kernel_size=1, stride=1)]\n",
    "        conv_block += [norm_layer(planes),\n",
    "                                    nn.ReLU(inplace=True),\n",
    "                                    ConvLayer(planes, planes, kernel_size=3, stride=stride)]\n",
    "        conv_block += [norm_layer(planes),\n",
    "                                    nn.ReLU(inplace=True),\n",
    "                                    nn.Conv2d(planes, planes * self.expansion, kernel_size=1, stride=1)]\n",
    "        self.conv_block = nn.Sequential(*conv_block)\n",
    "        \n",
    "    def forward(self, x):\n",
    "        if self.downsample is not None:\n",
    "            residual = self.residual_layer(x)\n",
    "        else:\n",
    "            residual = x\n",
    "        return residual + self.conv_block(x)\n",
    "    \n",
    "class UpBottleneck(nn.Module):\n",
    "    \"\"\" Up-sample residual block (from MSG-Net paper)\n",
    "    Enables passing identity all the way through the generator\n",
    "    ref https://arxiv.org/abs/1703.06953\n",
    "    \"\"\"\n",
    "    def __init__(self, inplanes, planes, stride=2, norm_layer=nn.BatchNorm2d):\n",
    "        super(UpBottleneck, self).__init__()\n",
    "        self.expansion = 4\n",
    "        self.residual_layer = UpsampleConvLayer(inplanes, planes * self.expansion,\n",
    "                                                      kernel_size=1, stride=1, upsample=stride)\n",
    "        conv_block = []\n",
    "        conv_block += [norm_layer(inplanes),\n",
    "                                    nn.ReLU(inplace=True),\n",
    "                                    nn.Conv2d(inplanes, planes, kernel_size=1, stride=1)]\n",
    "        conv_block += [norm_layer(planes),\n",
    "                                    nn.ReLU(inplace=True),\n",
    "                                    UpsampleConvLayer(planes, planes, kernel_size=3, stride=1, upsample=stride)]\n",
    "        conv_block += [norm_layer(planes),\n",
    "                                    nn.ReLU(inplace=True),\n",
    "                                    nn.Conv2d(planes, planes * self.expansion, kernel_size=1, stride=1)]\n",
    "        self.conv_block = nn.Sequential(*conv_block)\n",
    "\n",
    "    def forward(self, x):\n",
    "        return  self.residual_layer(x) + self.conv_block(x)\n",
    "# the MSG-Net\n",
    "class Net(nn.Module):\n",
    "    def __init__(self, input_nc=3, output_nc=3, ngf=64, norm_layer=nn.InstanceNorm2d, n_blocks=6, gpu_ids=[]):\n",
    "        super(Net, self).__init__()\n",
    "        self.gpu_ids = gpu_ids\n",
    "        self.gram = GramMatrix()\n",
    "\n",
    "        block = Bottleneck\n",
    "        upblock = UpBottleneck\n",
    "        expansion = 4\n",
    "\n",
    "        model1 = []\n",
    "        model1 += [ConvLayer(input_nc, 64, kernel_size=7, stride=1),\n",
    "                            norm_layer(64),\n",
    "                            nn.ReLU(inplace=True),\n",
    "                            block(64, 32, 2, 1, norm_layer),\n",
    "                            block(32*expansion, ngf, 2, 1, norm_layer)]\n",
    "        self.model1 = nn.Sequential(*model1)\n",
    "\n",
    "        model = []\n",
    "        self.ins = Inspiration(ngf*expansion)\n",
    "        model += [self.model1]\n",
    "        model += [self.ins]    \n",
    "\n",
    "        for i in range(n_blocks):\n",
    "            model += [block(ngf*expansion, ngf, 1, None, norm_layer)]\n",
    "        \n",
    "        model += [upblock(ngf*expansion, 32, 2, norm_layer),\n",
    "                            upblock(32*expansion, 16, 2, norm_layer),\n",
    "                            norm_layer(16*expansion),\n",
    "                            nn.ReLU(inplace=True),\n",
    "                            ConvLayer(16*expansion, output_nc, kernel_size=7, stride=1)]\n",
    "\n",
    "        self.model = nn.Sequential(*model)\n",
    "\n",
    "    def setTarget(self, Xs):\n",
    "        F = self.model1(Xs)\n",
    "        G = self.gram(F)\n",
    "        self.ins.setTarget(G)\n",
    "\n",
    "    def forward(self, input):\n",
    "        return self.model(input)\n"
   ]
  },
  {
   "cell_type": "markdown",
   "metadata": {},
   "source": [
    "- Implement utils functions for read/write image"
   ]
  },
  {
   "cell_type": "code",
   "execution_count": null,
   "metadata": {},
   "outputs": [],
   "source": [
    "import os\n",
    "from PIL import Image\n",
    "\n",
    "def tensor_load_rgbimage(filename, size=None, scale=None, keep_asp=False):\n",
    "    img = Image.open(filename).convert('RGB')\n",
    "    if size is not None:\n",
    "        if keep_asp:\n",
    "            size2 = int(size * 1.0 / img.size[0] * img.size[1])\n",
    "            img = img.resize((size, size2), Image.ANTIALIAS)\n",
    "        else:\n",
    "            img = img.resize((size, size), Image.ANTIALIAS)\n",
    "\n",
    "    elif scale is not None:\n",
    "        img = img.resize((int(img.size[0] / scale), int(img.size[1] / scale)), Image.ANTIALIAS)\n",
    "    img = np.array(img).transpose(2, 0, 1)\n",
    "    img = torch.from_numpy(img).float()\n",
    "    return img\n",
    "\n",
    "def tensor_save_rgbimage(tensor, filename, cuda=False):\n",
    "    if cuda:\n",
    "        img = tensor.clone().cpu().clamp(0, 255).numpy()\n",
    "    else:\n",
    "        img = tensor.clone().clamp(0, 255).numpy()\n",
    "    img = img.transpose(1, 2, 0).astype('uint8')\n",
    "    img = Image.fromarray(img)\n",
    "    img.save(filename)\n",
    "\n",
    "\n",
    "def tensor_save_bgrimage(tensor, filename, cuda=False):\n",
    "    (b, g, r) = torch.chunk(tensor, 3)\n",
    "    tensor = torch.cat((r, g, b))\n",
    "    tensor_save_rgbimage(tensor, filename, cuda)\n",
    "    \n",
    "def preprocess_batch(batch):\n",
    "    batch = batch.transpose(0, 1)\n",
    "    (r, g, b) = torch.chunk(batch, 3)\n",
    "    batch = torch.cat((b, g, r))\n",
    "    batch = batch.transpose(0, 1)\n",
    "    return batch"
   ]
  },
  {
   "cell_type": "markdown",
   "metadata": {},
   "source": [
    "- Download the images and the model file"
   ]
  },
  {
   "cell_type": "code",
   "execution_count": null,
   "metadata": {
    "scrolled": true
   },
   "outputs": [],
   "source": [
    "display(Image.open('venice-boat.jpg').resize((500, 300)))"
   ]
  },
  {
   "cell_type": "code",
   "execution_count": null,
   "metadata": {},
   "outputs": [],
   "source": [
    "display(Image.open('candy.jpg').resize((300, 300)))"
   ]
  },
  {
   "cell_type": "markdown",
   "metadata": {},
   "source": [
    "- Load the images and preprocessing"
   ]
  },
  {
   "cell_type": "code",
   "execution_count": null,
   "metadata": {},
   "outputs": [],
   "source": [
    "content_image = tensor_load_rgbimage('venice-boat.jpg', size=512, keep_asp=True).unsqueeze(0)\n",
    "style = tensor_load_rgbimage('candy.jpg', size=512).unsqueeze(0)    \n",
    "style = preprocess_batch(style)"
   ]
  },
  {
   "cell_type": "markdown",
   "metadata": {},
   "source": [
    "- Create MSG-Net and load pre-trained weights"
   ]
  },
  {
   "cell_type": "code",
   "execution_count": null,
   "metadata": {},
   "outputs": [],
   "source": [
    "model_dict = torch.load('21styles.model')\n",
    "model_dict_clone = model_dict.copy() # We can't mutate while iterating\n",
    "\n",
    "for key, value in model_dict_clone.items():\n",
    "    if key.endswith(('running_mean', 'running_var')):\n",
    "        del model_dict[key]\n",
    "\n",
    "style_model = Net(ngf=128)\n",
    "style_model.load_state_dict(model_dict, False)"
   ]
  },
  {
   "cell_type": "markdown",
   "metadata": {},
   "source": [
    "- Set the style target and generate outputs"
   ]
  },
  {
   "cell_type": "code",
   "execution_count": null,
   "metadata": {},
   "outputs": [],
   "source": [
    "style_v = Variable(style)\n",
    "content_image = Variable(preprocess_batch(content_image))\n",
    "style_model.setTarget(style_v)\n",
    "output = style_model(content_image)\n",
    "tensor_save_bgrimage(output.data[0], 'output.jpg', False)"
   ]
  },
  {
   "cell_type": "code",
   "execution_count": null,
   "metadata": {},
   "outputs": [],
   "source": [
    "display(Image.open('output.jpg'))"
   ]
  }
 ],
 "metadata": {
  "kernelspec": {
   "display_name": "Python 3",
   "language": "python",
   "name": "python3"
  },
  "language_info": {
   "codemirror_mode": {
    "name": "ipython",
    "version": 3
   },
   "file_extension": ".py",
   "mimetype": "text/x-python",
   "name": "python",
   "nbconvert_exporter": "python",
   "pygments_lexer": "ipython3",
   "version": "3.7.0"
  }
 },
 "nbformat": 4,
 "nbformat_minor": 2
}
